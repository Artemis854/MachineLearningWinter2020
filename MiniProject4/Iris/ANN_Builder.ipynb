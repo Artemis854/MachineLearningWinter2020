{
 "cells": [
  {
   "cell_type": "code",
   "execution_count": 28,
   "metadata": {},
   "outputs": [],
   "source": [
    "import numpy as np\n",
    "from tensorflow import keras\n",
    "\n",
    "from sklearn import datasets\n",
    "from sklearn.model_selection import train_test_split\n",
    "\n",
    "iris = datasets.load_iris()\n",
    "\n",
    "X = iris.data\n",
    "y = iris.target\n",
    "\n",
    "train_data, test_data, train_labels, test_labels = train_test_split(X, y, test_size=0.30, random_state=0)"
   ]
  },
  {
   "cell_type": "code",
   "execution_count": 36,
   "metadata": {},
   "outputs": [],
   "source": [
    "from tensorflow.keras.models import Sequential\n",
    "from tensorflow.keras.layers import Dense\n",
    "\n",
    "from tensorflow.keras.callbacks import TensorBoard\n",
    "import datetime\n",
    "\n",
    "# Building Keras Model\n",
    "model = Sequential([\n",
    "    Dense(64, activation='relu', input_shape=(4,)),\n",
    "    Dense(64, activation='relu'),\n",
    "    Dense(3, activation='softmax'),\n",
    "])\n",
    "\n",
    "# Compile Keras Model\n",
    "model.compile(\n",
    "  optimizer='adam',\n",
    "  loss='sparse_categorical_crossentropy',\n",
    "  metrics=['accuracy'],\n",
    ")\n",
    "\n",
    "log_dir = \"logs/fit/Iris_\" + datetime.datetime.now().strftime(\"%Y%m%d-%H%M%S\")\n",
    "tensorboard_callback = TensorBoard(log_dir=log_dir, histogram_freq=1)"
   ]
  },
  {
   "cell_type": "code",
   "execution_count": 37,
   "metadata": {},
   "outputs": [
    {
     "name": "stdout",
     "output_type": "stream",
     "text": [
      "Train on 105 samples, validate on 45 samples\n",
      "Epoch 1/15\n",
      "105/105 [==============================] - 0s 3ms/sample - loss: 1.2276 - accuracy: 0.1524 - val_loss: 1.1262 - val_accuracy: 0.2444\n",
      "Epoch 2/15\n",
      "105/105 [==============================] - 0s 215us/sample - loss: 1.0110 - accuracy: 0.3619 - val_loss: 1.0874 - val_accuracy: 0.2444\n",
      "Epoch 3/15\n",
      "105/105 [==============================] - 0s 203us/sample - loss: 0.9486 - accuracy: 0.3714 - val_loss: 1.0295 - val_accuracy: 0.2444\n",
      "Epoch 4/15\n",
      "105/105 [==============================] - 0s 220us/sample - loss: 0.8958 - accuracy: 0.3714 - val_loss: 0.9540 - val_accuracy: 0.2444\n",
      "Epoch 5/15\n",
      "105/105 [==============================] - 0s 214us/sample - loss: 0.8537 - accuracy: 0.3810 - val_loss: 0.8893 - val_accuracy: 0.3111\n",
      "Epoch 6/15\n",
      "105/105 [==============================] - 0s 185us/sample - loss: 0.8154 - accuracy: 0.5238 - val_loss: 0.8321 - val_accuracy: 0.4889\n",
      "Epoch 7/15\n",
      "105/105 [==============================] - 0s 220us/sample - loss: 0.7717 - accuracy: 0.7429 - val_loss: 0.8008 - val_accuracy: 0.7111\n",
      "Epoch 8/15\n",
      "105/105 [==============================] - 0s 254us/sample - loss: 0.7315 - accuracy: 0.7810 - val_loss: 0.7865 - val_accuracy: 0.6000\n",
      "Epoch 9/15\n",
      "105/105 [==============================] - 0s 232us/sample - loss: 0.7000 - accuracy: 0.7048 - val_loss: 0.7725 - val_accuracy: 0.6000\n",
      "Epoch 10/15\n",
      "105/105 [==============================] - 0s 177us/sample - loss: 0.6670 - accuracy: 0.6952 - val_loss: 0.7184 - val_accuracy: 0.6000\n",
      "Epoch 11/15\n",
      "105/105 [==============================] - 0s 220us/sample - loss: 0.6347 - accuracy: 0.7143 - val_loss: 0.6592 - val_accuracy: 0.7333\n",
      "Epoch 12/15\n",
      "105/105 [==============================] - 0s 231us/sample - loss: 0.5963 - accuracy: 0.8571 - val_loss: 0.6377 - val_accuracy: 0.7111\n",
      "Epoch 13/15\n",
      "105/105 [==============================] - 0s 207us/sample - loss: 0.5688 - accuracy: 0.8190 - val_loss: 0.6185 - val_accuracy: 0.7111\n",
      "Epoch 14/15\n",
      "105/105 [==============================] - 0s 186us/sample - loss: 0.5395 - accuracy: 0.8381 - val_loss: 0.5759 - val_accuracy: 0.7778\n",
      "Epoch 15/15\n",
      "105/105 [==============================] - 0s 207us/sample - loss: 0.5186 - accuracy: 0.9143 - val_loss: 0.5262 - val_accuracy: 0.9333\n"
     ]
    }
   ],
   "source": [
    "model.fit(\n",
    "  train_data, # training data\n",
    "  train_labels, # training targets\n",
    "  epochs=15,\n",
    "  batch_size=32,\n",
    "  validation_data=(test_data, test_labels),\n",
    "  callbacks=[tensorboard_callback]\n",
    ")\n",
    "\n",
    "model.save_weights('./models/Iris_' + datetime.datetime.now().strftime(\"%Y%m%d-%H%M%S\") + '_model.h5')"
   ]
  },
  {
   "cell_type": "code",
   "execution_count": 51,
   "metadata": {},
   "outputs": [
    {
     "name": "stdout",
     "output_type": "stream",
     "text": [
      "[0 0 0 0 0 0 0 0 0 0 0 0 0 0 0 0 0 0 0 0 0 0 0 0 0 0 0 0 0 0 0 0 0 0 0 0 0\n",
      " 0 0 0 0 0 0 0 0 0 0 0 0 0 1 1 1 1 1 1 1 1 1 1 1 1 1 1 1 1 2 1 2 1 2 1 2 1\n",
      " 1 1 1 1 1 1 1 1 1 2 2 1 1 1 1 1 1 1 1 1 1 1 1 1 1 1 2 2 2 2 2 2 2 2 2 2 2\n",
      " 2 2 2 2 2 2 2 2 2 2 2 2 2 2 2 2 2 2 2 2 2 2 2 2 2 2 2 2 2 2 2 2 2 2 2 2 2\n",
      " 2 2]\n",
      "[0 0 0 0 0 0 0 0 0 0 0 0 0 0 0 0 0 0 0 0 0 0 0 0 0 0 0 0 0 0 0 0 0 0 0 0 0\n",
      " 0 0 0 0 0 0 0 0 0 0 0 0 0 1 1 1 1 1 1 1 1 1 1 1 1 1 1 1 1 1 1 1 1 1 1 1 1\n",
      " 1 1 1 1 1 1 1 1 1 1 1 1 1 1 1 1 1 1 1 1 1 1 1 1 1 1 2 2 2 2 2 2 2 2 2 2 2\n",
      " 2 2 2 2 2 2 2 2 2 2 2 2 2 2 2 2 2 2 2 2 2 2 2 2 2 2 2 2 2 2 2 2 2 2 2 2 2\n",
      " 2 2]\n"
     ]
    },
    {
     "data": {
      "text/plain": [
       "Counter({True: 144, False: 6})"
      ]
     },
     "execution_count": 51,
     "metadata": {},
     "output_type": "execute_result"
    }
   ],
   "source": [
    "from collections import Counter\n",
    "\n",
    "predictions = model.predict(X)\n",
    "\n",
    "pred_array = np.argmax(predictions, axis=1)\n",
    "actual_array = y\n",
    "\n",
    "# # Print our model's predictions.\n",
    "print(pred_array) # [7, 2, 1, 0, 4]\n",
    "\n",
    "# # Check our predictions against the ground truths.\n",
    "print(actual_array) # [7, 2, 1, 0, 4]\n",
    "\n",
    "comparisons = Counter([a == actual_array[index] for index, a in enumerate(pred_array)])\n",
    "comparisons"
   ]
  },
  {
   "cell_type": "code",
   "execution_count": 52,
   "metadata": {},
   "outputs": [
    {
     "name": "stderr",
     "output_type": "stream",
     "text": [
      "/home/linuxbrew/.linuxbrew/opt/python/lib/python3.7/site-packages/tensorflowjs/converters/keras_h5_conversion.py:122: H5pyDeprecationWarning: The default file mode will change to 'r' (read-only) in h5py 3.0. To suppress this warning, pass the mode you need to h5py.File(), or set the global default h5.get_config().default_file_mode, or set the environment variable H5PY_DEFAULT_READONLY=1. Available modes are: 'r', 'r+', 'w', 'w-'/'x', 'a'. See the docs for details.\n",
      "  return h5py.File(h5file)\n"
     ]
    }
   ],
   "source": [
    "import tensorflowjs as tfjs\n",
    "\n",
    "tfjs.converters.save_keras_model(model, './models/')"
   ]
  },
  {
   "cell_type": "code",
   "execution_count": null,
   "metadata": {},
   "outputs": [],
   "source": []
  }
 ],
 "metadata": {
  "kernelspec": {
   "display_name": "Python 3",
   "language": "python",
   "name": "python3"
  },
  "language_info": {
   "codemirror_mode": {
    "name": "ipython",
    "version": 3
   },
   "file_extension": ".py",
   "mimetype": "text/x-python",
   "name": "python",
   "nbconvert_exporter": "python",
   "pygments_lexer": "ipython3",
   "version": "3.7.5"
  }
 },
 "nbformat": 4,
 "nbformat_minor": 2
}
