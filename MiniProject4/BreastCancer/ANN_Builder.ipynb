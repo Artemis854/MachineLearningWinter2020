{
 "cells": [
  {
   "cell_type": "code",
   "execution_count": 3,
   "metadata": {},
   "outputs": [],
   "source": [
    "import numpy as np\n",
    "import pandas as pd\n",
    "from tensorflow import keras\n",
    "\n",
    "# from sklearn import datasets\n",
    "from sklearn.model_selection import train_test_split\n",
    "from sklearn import preprocessing\n",
    "\n",
    "breast_cancer = pd.read_csv('./breast-cancer-wisconsin.csv')\n",
    "\n",
    "breast_cancer.dropna()\n",
    "breast_cancer['Class'].replace([2,4],[0,1],inplace=True)\n",
    "\n",
    "X = preprocessing.scale(breast_cancer.drop(['Sample code number', 'Class'], axis=1).to_numpy())\n",
    "y = breast_cancer['Class'].to_numpy()\n",
    "\n",
    "train_data, test_data, train_labels, test_labels = train_test_split(X, y, test_size=0.30, random_state=0)"
   ]
  },
  {
   "cell_type": "code",
   "execution_count": 146,
   "metadata": {},
   "outputs": [
    {
     "data": {
      "text/plain": [
       "(478, 9)"
      ]
     },
     "execution_count": 146,
     "metadata": {},
     "output_type": "execute_result"
    }
   ],
   "source": [
    "train_data.shape"
   ]
  },
  {
   "cell_type": "code",
   "execution_count": 4,
   "metadata": {},
   "outputs": [],
   "source": [
    "from tensorflow.keras.models import Sequential\n",
    "from tensorflow.keras.layers import Dense\n",
    "\n",
    "from tensorflow.keras.callbacks import TensorBoard\n",
    "import datetime\n",
    "\n",
    "# Building Keras Model\n",
    "model = Sequential([\n",
    "    Dense(64, activation='relu', input_shape=(9,)),\n",
    "    Dense(64, activation='relu'),\n",
    "    Dense(64, activation='relu'),\n",
    "    Dense(2, activation='softmax'),\n",
    "])\n",
    "\n",
    "# Compile Keras Model\n",
    "model.compile(\n",
    "  optimizer='adam',\n",
    "  loss='sparse_categorical_crossentropy',\n",
    "  metrics=['accuracy'],\n",
    ")\n",
    "\n",
    "log_dir = \"logs/fit/Breast_Cancer_\" + datetime.datetime.now().strftime(\"%Y%m%d-%H%M%S\")\n",
    "tensorboard_callback = TensorBoard(log_dir=log_dir, histogram_freq=1)"
   ]
  },
  {
   "cell_type": "code",
   "execution_count": 172,
   "metadata": {
    "scrolled": true
   },
   "outputs": [
    {
     "name": "stdout",
     "output_type": "stream",
     "text": [
      "Train on 478 samples, validate on 205 samples\n",
      "Epoch 1/15\n",
      "478/478 [==============================] - 0s 832us/sample - loss: 0.4457 - accuracy: 0.8849 - val_loss: 0.2281 - val_accuracy: 0.9610\n",
      "Epoch 2/15\n",
      "478/478 [==============================] - 0s 109us/sample - loss: 0.1427 - accuracy: 0.9749 - val_loss: 0.1039 - val_accuracy: 0.9659\n",
      "Epoch 3/15\n",
      "478/478 [==============================] - 0s 116us/sample - loss: 0.0785 - accuracy: 0.9749 - val_loss: 0.0924 - val_accuracy: 0.9659\n",
      "Epoch 4/15\n",
      "478/478 [==============================] - 0s 126us/sample - loss: 0.0743 - accuracy: 0.9749 - val_loss: 0.0917 - val_accuracy: 0.9610\n",
      "Epoch 5/15\n",
      "478/478 [==============================] - 0s 117us/sample - loss: 0.0707 - accuracy: 0.9728 - val_loss: 0.0887 - val_accuracy: 0.9659\n",
      "Epoch 6/15\n",
      "478/478 [==============================] - 0s 116us/sample - loss: 0.0673 - accuracy: 0.9770 - val_loss: 0.0851 - val_accuracy: 0.9659\n",
      "Epoch 7/15\n",
      "478/478 [==============================] - 0s 120us/sample - loss: 0.0641 - accuracy: 0.9770 - val_loss: 0.0854 - val_accuracy: 0.9610\n",
      "Epoch 8/15\n",
      "478/478 [==============================] - 0s 120us/sample - loss: 0.0615 - accuracy: 0.9791 - val_loss: 0.0833 - val_accuracy: 0.9659\n",
      "Epoch 9/15\n",
      "478/478 [==============================] - 0s 112us/sample - loss: 0.0591 - accuracy: 0.9812 - val_loss: 0.0820 - val_accuracy: 0.9659\n",
      "Epoch 10/15\n",
      "478/478 [==============================] - 0s 110us/sample - loss: 0.0586 - accuracy: 0.9812 - val_loss: 0.0809 - val_accuracy: 0.9659\n",
      "Epoch 11/15\n",
      "478/478 [==============================] - 0s 121us/sample - loss: 0.0541 - accuracy: 0.9812 - val_loss: 0.0814 - val_accuracy: 0.9659\n",
      "Epoch 12/15\n",
      "478/478 [==============================] - 0s 106us/sample - loss: 0.0528 - accuracy: 0.9833 - val_loss: 0.0831 - val_accuracy: 0.9659\n",
      "Epoch 13/15\n",
      "478/478 [==============================] - 0s 109us/sample - loss: 0.0508 - accuracy: 0.9854 - val_loss: 0.0816 - val_accuracy: 0.9659\n",
      "Epoch 14/15\n",
      "478/478 [==============================] - 0s 117us/sample - loss: 0.0470 - accuracy: 0.9854 - val_loss: 0.0820 - val_accuracy: 0.9659\n",
      "Epoch 15/15\n",
      "478/478 [==============================] - 0s 115us/sample - loss: 0.0450 - accuracy: 0.9854 - val_loss: 0.0837 - val_accuracy: 0.9610\n"
     ]
    }
   ],
   "source": [
    "model.fit(\n",
    "  train_data, # training data\n",
    "  train_labels, # training targets\n",
    "  epochs=15,\n",
    "  batch_size=32,\n",
    "  validation_data=(test_data, test_labels),\n",
    "  callbacks=[tensorboard_callback]\n",
    ")\n",
    "\n",
    "model.save_weights('./models/Breast_Cancer_' + datetime.datetime.now().strftime(\"%Y%m%d-%H%M%S\") + '_model.h5')"
   ]
  },
  {
   "cell_type": "code",
   "execution_count": 5,
   "metadata": {
    "scrolled": true
   },
   "outputs": [
    {
     "name": "stdout",
     "output_type": "stream",
     "text": [
      "683\n",
      "[0 1 0 1 0 1 1 0 0 0 0 0 0 0 1 1 0 0 1 0 1 1 0 0 1 0 0 0 0 0 0 1 0 0 0 1 0\n",
      " 1 1 1 1 1 1 0 1 0 0 1 1 0 1 1 1 1 1 1 1 1 1 0 1 1 0 1 0 1 1 0 0 1 0 1 1 0\n",
      " 0 0 0 0 0 0 0 0 1 1 1 1 0 0 0 0 0 0 0 0 0 0 1 1 1 1 0 1 1 1 1 1 0 1 0 1 1\n",
      " 1 0 0 0 1 0 0 0 0 1 1 1 0 1 0 1 0 0 0 1 0 0 0 0 0 0 0 0 1 0 0 1 0 0 1 0 1\n",
      " 1 0 0 1 0 0 1 1 0 0 0 0 1 1 0 0 0 0 0 1 1 1 0 1 0 1 0 0 0 1 1 0 1 1 1 0 1\n",
      " 1 0 0 0 0 1 0 0 0 1 1 0 0 0 1 1 0 0 0 1 1 0 1 1 1 0 0 1 0 0 1 0 1 1 0 1 1\n",
      " 0 1 1 1 0 1 0 1 1 1 1 0 0 0 0 0 0 1 1 0 0 1 1 1 1 1 0 0 0 1 1 1 1 1 1 0 1\n",
      " 1 1 0 1 0 1 1 0 0 0 0 1 0 0 1 1 1 1 1 0 1 1 0 0 1 1 1 0 1 1 0 1 0 1 1 0 0\n",
      " 1 0 0 0 1 0 0 1 1 0 1 1 0 1 0 0 1 0 1 1 1 0 0 1 1 0 1 0 0 1 1 0 0 0 1 0 0\n",
      " 0 1 1 0 0 1 1 0 0 0 1 1 1 1 1 0 0 0 0 1 1 0 0 0 0 0 0 0 0 0 0 0 0 0 1 0 0\n",
      " 0 0 1 0 0 0 0 1 0 0 0 0 0 0 0 0 1 0 0 0 0 0 0 0 0 0 0 1 0 1 0 1 0 0 0 0 1\n",
      " 0 0 0 1 0 1 0 0 0 0 0 0 1 1 1 0 0 0 1 0 0 0 0 0 0 0 0 1 0 0 0 1 0 1 1 1 0\n",
      " 0 0 0 0 0 0 1 1 1 0 0 0 0 0 0 0 0 0 0 0 1 0 0 1 1 0 0 0 1 1 1 0 1 0 1 0 0\n",
      " 0 0 0 0 0 0 0 0 0 0 1 0 0 0 0 0 0 0 1 1 0 0 0 1 0 0 1 1 0 0 0 0 0 0 1 0 0\n",
      " 0 0 0 0 0 0 0 0 0 0 0 0 0 1 0 0 1 0 0 0 0 0 0 0 0 0 0 0 0 0 0 0 1 0 0 1 1\n",
      " 1 1 0 0 1 0 0 0 0 0 0 1 1 0 0 0 1 0 1 0 1 1 1 0 1 0 0 0 0 0 0 0 0 1 1 1 0\n",
      " 0 1 0 1 1 1 0 0 0 0 0 0 0 0 0 0 0 0 1 0 0 0 0 0 0 1 0 0 1 0 0 0 0 0 0 0 0\n",
      " 0 0 0 1 0 0 0 0 0 0 0 0 0 1 0 0 0 0 0 0 0 0 0 1 1 1 0 0 0 0 0 0 0 0 0 1 1\n",
      " 0 0 0 0 0 0 0 0 0 1 0 0 0 0 1 1 1]\n",
      "[0 0 0 0 0 1 0 0 0 0 0 0 1 0 1 1 0 0 1 0 1 1 0 0 1 0 0 0 0 0 0 1 0 0 0 1 0\n",
      " 1 1 1 1 1 1 0 1 0 0 1 1 1 1 1 1 1 1 1 1 1 1 0 1 1 0 1 0 1 1 0 0 1 0 1 1 0\n",
      " 0 0 0 0 0 0 0 0 1 1 1 1 0 0 0 0 0 0 0 0 0 0 1 1 1 1 0 1 1 1 1 1 0 1 0 1 1\n",
      " 1 0 0 0 1 0 0 0 0 1 1 1 0 1 0 1 0 0 0 1 0 0 0 0 0 0 0 0 1 0 0 1 0 0 1 0 1\n",
      " 1 0 0 1 0 0 1 1 0 0 0 0 1 1 0 0 0 0 0 1 1 1 0 1 0 1 0 0 0 1 1 0 1 1 1 0 1\n",
      " 1 0 0 0 0 0 0 0 0 1 1 0 0 0 1 1 0 0 0 1 1 0 1 1 1 0 0 1 0 0 1 1 1 1 0 1 1\n",
      " 0 1 1 1 0 1 0 1 1 1 1 0 0 0 0 0 0 1 1 0 0 1 0 1 1 1 0 0 0 0 1 1 1 1 1 0 1\n",
      " 1 1 0 1 0 1 1 0 0 0 0 1 0 0 1 1 1 1 1 0 1 1 0 0 1 1 0 0 1 1 0 1 0 1 1 0 0\n",
      " 1 0 0 0 1 0 0 1 1 0 0 1 0 1 0 0 1 0 1 1 1 0 0 1 1 0 1 0 0 1 1 0 0 0 1 0 0\n",
      " 0 1 1 0 0 0 1 0 0 1 1 1 1 1 1 0 0 0 0 1 1 0 0 0 0 0 0 0 0 0 0 0 0 0 1 0 0\n",
      " 0 0 1 0 0 0 0 1 0 0 0 0 0 0 0 0 1 0 0 0 0 0 0 0 0 0 0 1 0 1 0 1 0 0 0 0 1\n",
      " 0 0 0 1 0 1 0 0 0 0 0 0 0 1 1 0 0 0 1 0 0 0 0 0 0 0 0 1 0 0 0 1 0 1 1 1 0\n",
      " 0 0 0 0 0 0 1 1 1 0 0 0 0 0 0 0 0 0 0 0 1 0 0 1 1 0 0 0 1 1 1 0 1 0 1 0 0\n",
      " 0 0 0 0 0 0 0 0 0 0 1 0 0 0 0 0 0 0 1 1 0 0 0 1 0 0 1 1 0 0 0 0 0 0 1 0 0\n",
      " 0 0 0 0 0 0 0 0 0 0 0 0 0 1 0 0 1 0 0 0 0 0 0 0 0 0 0 0 0 0 0 0 1 0 0 1 1\n",
      " 1 1 0 0 1 0 0 0 0 0 0 1 1 0 0 0 1 0 1 0 1 1 1 0 1 0 0 0 0 0 0 0 0 1 1 1 0\n",
      " 0 1 0 1 1 1 0 0 0 0 0 0 0 0 0 0 0 0 1 0 0 0 0 0 0 1 0 0 1 0 0 0 0 0 0 0 0\n",
      " 0 0 0 1 0 0 0 0 0 0 0 0 0 1 0 0 0 0 0 0 0 0 0 1 1 1 0 0 0 0 0 0 0 0 0 1 1\n",
      " 0 0 0 0 0 0 0 0 0 1 0 0 0 0 1 1 1]\n"
     ]
    },
    {
     "data": {
      "text/plain": [
       "Counter({True: 669, False: 14})"
      ]
     },
     "execution_count": 5,
     "metadata": {},
     "output_type": "execute_result"
    }
   ],
   "source": [
    "from collections import Counter\n",
    "model.load_weights('./models/Breast_Cancer_20200405-153046_model.h5')\n",
    "\n",
    "predictions = model.predict(X)\n",
    "\n",
    "pred_array = np.argmax(predictions, axis=1)\n",
    "actual_array = y\n",
    "print(pred_array.size)\n",
    "# # Print our model's predictions.\n",
    "print(pred_array) # [7, 2, 1, 0, 4]\n",
    "\n",
    "# # Check our predictions against the ground truths.\n",
    "print(actual_array) # [7, 2, 1, 0, 4]\n",
    "\n",
    "comparisons = Counter([a == actual_array[index] for index, a in enumerate(pred_array)])\n",
    "comparisons"
   ]
  },
  {
   "cell_type": "code",
   "execution_count": 17,
   "metadata": {
    "scrolled": true
   },
   "outputs": [
    {
     "data": {
      "image/png": "[encoded data removed]",
      "text/plain": [
       "<Figure size 432x288 with 2 Axes>"
      ]
     },
     "metadata": {
      "needs_background": "light"
     },
     "output_type": "display_data"
    }
   ],
   "source": [
    "from sklearn.metrics import confusion_matrix\n",
    "import seaborn as sn\n",
    "import pandas as pd\n",
    "import matplotlib.pyplot as plt\n",
    "\n",
    "array = confusion_matrix(actual_array, pred_array)\n",
    "\n",
    "df_cm = pd.DataFrame(array, index = [i for i in np.array(['Benign', 'Malignant'])],\n",
    "                  columns = [i for i in np.array(['Benign', 'Malignant'])])\n",
    "\n",
    "fig = sn.heatmap(df_cm, annot=True, cmap=\"YlGnBu\", fmt='g')\n",
    "\n",
    "plt.xlabel('Predicted')\n",
    "plt.ylabel('Actual')\n",
    "\n",
    "plt.show()"
   ]
  },
  {
   "cell_type": "code",
   "execution_count": null,
   "metadata": {},
   "outputs": [],
   "source": []
  }
 ],
 "metadata": {
  "kernelspec": {
   "display_name": "Python 3",
   "language": "python",
   "name": "python3"
  },
  "language_info": {
   "codemirror_mode": {
    "name": "ipython",
    "version": 3
   },
   "file_extension": ".py",
   "mimetype": "text/x-python",
   "name": "python",
   "nbconvert_exporter": "python",
   "pygments_lexer": "ipython3",
   "version": "3.7.5"
  }
 },
 "nbformat": 4,
 "nbformat_minor": 2
}
