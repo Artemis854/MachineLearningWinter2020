{
 "cells": [
  {
   "cell_type": "code",
   "execution_count": 1,
   "metadata": {},
   "outputs": [],
   "source": [
    "import numpy as np\n",
    "import pandas as pd\n",
    "from tensorflow import keras\n",
    "\n",
    "# from sklearn import datasets\n",
    "from sklearn.model_selection import train_test_split\n",
    "from sklearn import preprocessing\n",
    "\n",
    "bank = pd.read_csv('./bank-full.csv')\n",
    "\n",
    "bank.dropna()\n",
    "bank['job'].replace([\"admin.\",\"unknown\",\"unemployed\",\"management\",\"housemaid\",\"entrepreneur\",\"student\",\"blue-collar\",\"self-employed\",\"retired\",\"technician\",\"services\"],range(12),inplace=True)\n",
    "bank['marital'].replace([\"married\",\"divorced\",\"single\"],range(3),inplace=True)\n",
    "bank['education'].replace([\"unknown\",\"secondary\",\"primary\",\"tertiary\"],range(4),inplace=True)\n",
    "bank['default'].replace([\"yes\",\"no\"],range(2),inplace=True)\n",
    "bank['housing'].replace([\"yes\",\"no\"],range(2),inplace=True)\n",
    "bank['loan'].replace([\"yes\",\"no\"],range(2),inplace=True)\n",
    "bank['contact'].replace([\"unknown\",\"telephone\",\"cellular\"],range(3),inplace=True)\n",
    "bank['month'].replace([\"jan\", \"feb\", \"mar\", \"apr\", \"may\", \"jun\", \"jul\", \"aug\", \"sep\", \"oct\", \"nov\", \"dec\"],range(12),inplace=True)\n",
    "bank['poutcome'].replace([\"unknown\",\"other\",\"failure\",\"success\"],range(4),inplace=True)\n",
    "bank['y'].replace([\"yes\",\"no\"],range(2),inplace=True)\n",
    "\n",
    "X = bank.drop(['contact', 'day', 'month', 'y'], axis=1).to_numpy()\n",
    "y = bank['y'].to_numpy()\n",
    "\n",
    "train_data, test_data, train_labels, test_labels = train_test_split(X, y, test_size=0.30, random_state=0)"
   ]
  },
  {
   "cell_type": "code",
   "execution_count": 55,
   "metadata": {},
   "outputs": [
    {
     "data": {
      "text/plain": [
       "(31647, 16)"
      ]
     },
     "execution_count": 55,
     "metadata": {},
     "output_type": "execute_result"
    }
   ],
   "source": [
    "train_data.shape"
   ]
  },
  {
   "cell_type": "code",
   "execution_count": 2,
   "metadata": {},
   "outputs": [],
   "source": [
    "from tensorflow.keras.models import Sequential\n",
    "from tensorflow.keras.layers import Dense\n",
    "\n",
    "from tensorflow.keras.callbacks import TensorBoard\n",
    "import datetime\n",
    "\n",
    "# Building Keras Model\n",
    "model = Sequential([\n",
    "    Dense(64, activation='relu', input_shape=(13,)),\n",
    "    Dense(128, activation='relu'),\n",
    "    Dense(2, activation='softmax'),\n",
    "])\n",
    "\n",
    "# Compile Keras Model\n",
    "model.compile(\n",
    "  optimizer='adam',\n",
    "  loss='sparse_categorical_crossentropy',\n",
    "  metrics=['accuracy'],\n",
    ")\n",
    "\n",
    "log_dir = \"logs/fit/Bank_Marketing_\" + datetime.datetime.now().strftime(\"%Y%m%d-%H%M%S\")\n",
    "tensorboard_callback = TensorBoard(log_dir=log_dir, histogram_freq=1)"
   ]
  },
  {
   "cell_type": "code",
   "execution_count": 11,
   "metadata": {
    "scrolled": true
   },
   "outputs": [
    {
     "name": "stdout",
     "output_type": "stream",
     "text": [
      "Train on 31647 samples, validate on 13564 samples\n",
      "Epoch 1/20\n",
      "31647/31647 [==============================] - 3s 83us/sample - loss: 4.5003 - accuracy: 0.8150 - val_loss: 3.3539 - val_accuracy: 0.6005\n",
      "Epoch 2/20\n",
      "31647/31647 [==============================] - 2s 74us/sample - loss: 2.0993 - accuracy: 0.8419 - val_loss: 1.0273 - val_accuracy: 0.8803\n",
      "Epoch 3/20\n",
      "31647/31647 [==============================] - 2s 75us/sample - loss: 1.3056 - accuracy: 0.8543 - val_loss: 5.8821 - val_accuracy: 0.8782\n",
      "Epoch 4/20\n",
      "31647/31647 [==============================] - 2s 77us/sample - loss: 1.3682 - accuracy: 0.8514 - val_loss: 0.3494 - val_accuracy: 0.8840\n",
      "Epoch 5/20\n",
      "31647/31647 [==============================] - 2s 76us/sample - loss: 0.6280 - accuracy: 0.8680 - val_loss: 0.8682 - val_accuracy: 0.8842\n",
      "Epoch 6/20\n",
      "31647/31647 [==============================] - 2s 73us/sample - loss: 0.6320 - accuracy: 0.8697 - val_loss: 0.4599 - val_accuracy: 0.8831\n",
      "Epoch 7/20\n",
      "31647/31647 [==============================] - 2s 74us/sample - loss: 0.4447 - accuracy: 0.8741 - val_loss: 0.2896 - val_accuracy: 0.8840\n",
      "Epoch 8/20\n",
      "31647/31647 [==============================] - 2s 73us/sample - loss: 0.4068 - accuracy: 0.8785 - val_loss: 0.3213 - val_accuracy: 0.8719\n",
      "Epoch 9/20\n",
      "31647/31647 [==============================] - 2s 75us/sample - loss: 0.3253 - accuracy: 0.8843 - val_loss: 0.2971 - val_accuracy: 0.8813\n",
      "Epoch 10/20\n",
      "31647/31647 [==============================] - 2s 74us/sample - loss: 0.3081 - accuracy: 0.8856 - val_loss: 0.2936 - val_accuracy: 0.8829\n",
      "Epoch 11/20\n",
      "31647/31647 [==============================] - 2s 75us/sample - loss: 0.3030 - accuracy: 0.8865 - val_loss: 0.2879 - val_accuracy: 0.8854\n",
      "Epoch 12/20\n",
      "31647/31647 [==============================] - 2s 79us/sample - loss: 0.2907 - accuracy: 0.8885 - val_loss: 0.2832 - val_accuracy: 0.8882\n",
      "Epoch 13/20\n",
      "31647/31647 [==============================] - 2s 78us/sample - loss: 0.2804 - accuracy: 0.8887 - val_loss: 0.3001 - val_accuracy: 0.8826\n",
      "Epoch 14/20\n",
      "31647/31647 [==============================] - 2s 76us/sample - loss: 0.2766 - accuracy: 0.8890 - val_loss: 0.2835 - val_accuracy: 0.8857\n",
      "Epoch 15/20\n",
      "31647/31647 [==============================] - 2s 78us/sample - loss: 0.2718 - accuracy: 0.8906 - val_loss: 0.2801 - val_accuracy: 0.8899\n",
      "Epoch 16/20\n",
      "31647/31647 [==============================] - 2s 75us/sample - loss: 0.2707 - accuracy: 0.8919 - val_loss: 0.2730 - val_accuracy: 0.8875\n",
      "Epoch 17/20\n",
      "31647/31647 [==============================] - 2s 77us/sample - loss: 0.2737 - accuracy: 0.8933 - val_loss: 0.2727 - val_accuracy: 0.8891\n",
      "Epoch 18/20\n",
      "31647/31647 [==============================] - 2s 75us/sample - loss: 0.2681 - accuracy: 0.8925 - val_loss: 0.2706 - val_accuracy: 0.8877\n",
      "Epoch 19/20\n",
      "31647/31647 [==============================] - 2s 74us/sample - loss: 0.2676 - accuracy: 0.8919 - val_loss: 0.2771 - val_accuracy: 0.8926\n",
      "Epoch 20/20\n",
      "31647/31647 [==============================] - 2s 74us/sample - loss: 0.2668 - accuracy: 0.8922 - val_loss: 0.2710 - val_accuracy: 0.8865\n"
     ]
    }
   ],
   "source": [
    "model.fit(\n",
    "  train_data, # training data\n",
    "  train_labels, # training targets\n",
    "  epochs=20,\n",
    "  batch_size=32,\n",
    "  validation_data=(test_data, test_labels),\n",
    "  callbacks=[tensorboard_callback]\n",
    ")\n",
    "\n",
    "model.save_weights('./models/Bank_Marketing_' + datetime.datetime.now().strftime(\"%Y%m%d-%H%M%S\") + '_model.h5')"
   ]
  },
  {
   "cell_type": "code",
   "execution_count": 3,
   "metadata": {},
   "outputs": [
    {
     "name": "stdout",
     "output_type": "stream",
     "text": [
      "45211\n",
      "[1 1 1 ... 0 1 1]\n",
      "[1 1 1 ... 0 1 1]\n"
     ]
    },
    {
     "data": {
      "text/plain": [
       "Counter({True: 40211, False: 5000})"
      ]
     },
     "execution_count": 3,
     "metadata": {},
     "output_type": "execute_result"
    }
   ],
   "source": [
    "from collections import Counter\n",
    "model.load_weights('./models/Bank_Marketing_20200405-164525_model.h5')\n",
    "\n",
    "predictions = model.predict(X)\n",
    "\n",
    "pred_array = np.argmax(predictions, axis=1)\n",
    "actual_array = y\n",
    "\n",
    "# comparisons = Counter([a == actual_array[index] for index, a in enumerate(pred_array)])\n",
    "# comparisons"
   ]
  },
  {
   "cell_type": "code",
   "execution_count": 5,
   "metadata": {},
   "outputs": [
    {
     "data": {
      "image/png": "[encoded data removed]",
      "text/plain": [
       "<Figure size 432x288 with 2 Axes>"
      ]
     },
     "metadata": {
      "needs_background": "light"
     },
     "output_type": "display_data"
    }
   ],
   "source": [
    "from sklearn.metrics import confusion_matrix\n",
    "import seaborn as sn\n",
    "import pandas as pd\n",
    "import matplotlib.pyplot as plt\n",
    "\n",
    "array = confusion_matrix(actual_array, pred_array)\n",
    "\n",
    "df_cm = pd.DataFrame(array, index = [i for i in np.array(['Yes', 'No'])],\n",
    "                  columns = [i for i in np.array(['Yes', 'No'])])\n",
    "\n",
    "fig = sn.heatmap(df_cm, annot=True, cmap=\"YlGnBu\", fmt='g')\n",
    "\n",
    "plt.xlabel('Predicted')\n",
    "plt.ylabel('Actual')\n",
    "\n",
    "plt.show()"
   ]
  },
  {
   "cell_type": "code",
   "execution_count": null,
   "metadata": {},
   "outputs": [],
   "source": []
  }
 ],
 "metadata": {
  "kernelspec": {
   "display_name": "Python 3",
   "language": "python",
   "name": "python3"
  },
  "language_info": {
   "codemirror_mode": {
    "name": "ipython",
    "version": 3
   },
   "file_extension": ".py",
   "mimetype": "text/x-python",
   "name": "python",
   "nbconvert_exporter": "python",
   "pygments_lexer": "ipython3",
   "version": "3.7.5"
  }
 },
 "nbformat": 4,
 "nbformat_minor": 2
}
