{
 "cells": [
  {
   "cell_type": "code",
   "execution_count": 123,
   "metadata": {},
   "outputs": [],
   "source": [
    "import numpy as np\n",
    "import skfuzzy as fuzz\n",
    "from skfuzzy import control as ctrl\n",
    "\n",
    "import warnings\n",
    "warnings.filterwarnings('ignore')\n",
    "\n",
    "# Step 2: Assign Universe\n",
    "financial_standing_ = ctrl.Antecedent(np.arange(0, 11, 1), 'financial_standing')\n",
    "political_stance = ctrl.Antecedent(np.arange(0, 11, 1), 'political_stance')\n",
    "career_experience = ctrl.Antecedent(np.arange(0, 11, 1), 'career_experience')\n",
    "financial_standing_B = ctrl.Antecedent(np.arange(0, 11, 1), 'financial_standing_B')\n",
    "political_stance_B = ctrl.Antecedent(np.arange(0, 11, 1), 'political_stance_B')\n",
    "career_experience_B = ctrl.Antecedent(np.arange(0, 11, 1), 'career_experience_B')\n",
    "# compatibility_fs = ctrl.Consequent(np.arange(0, 11, 1), 'compatibility_fs')\n",
    "# compatibility_ps = ctrl.Consequent(np.arange(0, 11, 1), 'compatibility_ps')\n",
    "# compatibility_ce = ctrl.Consequent(np.arange(0, 11, 1), 'compatibility_ce')\n",
    "compatibility = ctrl.Consequent(np.arange(0, 11, 1), 'compatibility')\n",
    "\n",
    "# Step 2: Assign Membership Functions\n",
    "financial_standing['poor'] = fuzz.trimf(financial_standing.universe, [0, 0, 3])\n",
    "financial_standing['mid-class'] = fuzz.trimf(financial_standing.universe, [2, 5, 9])\n",
    "financial_standing['rich'] = fuzz.trimf(financial_standing.universe, [8, 10, 10])\n",
    "\n",
    "political_stance['left'] = fuzz.trimf(political_stance.universe, [0, 0, 5])\n",
    "political_stance['centre'] = fuzz.trimf(political_stance.universe, [2, 5, 8])\n",
    "political_stance['right'] = fuzz.trimf(political_stance.universe, [5, 10, 10])\n",
    "\n",
    "career_experience['novice'] = fuzz.trimf(career_experience.universe, [0, 0, 4])\n",
    "career_experience['intermediate'] = fuzz.trimf(career_experience.universe, [3, 5, 8])\n",
    "career_experience['expert'] = fuzz.trimf(career_experience.universe, [6, 10, 10])\n",
    "\n",
    "financial_standing_B['poor'] = fuzz.trimf(financial_standing.universe, [0, 0, 3])\n",
    "financial_standing_B['mid-class'] = fuzz.trimf(financial_standing.universe, [2, 5, 9])\n",
    "financial_standing_B['rich'] = fuzz.trimf(financial_standing.universe, [8, 10, 10])\n",
    "\n",
    "political_stance_B['left'] = fuzz.trimf(political_stance.universe, [0, 0, 5])\n",
    "political_stance_B['centre'] = fuzz.trimf(political_stance.universe, [2, 5, 8])\n",
    "political_stance_B['right'] = fuzz.trimf(political_stance.universe, [5, 10, 10])\n",
    "\n",
    "career_experience_B['novice'] = fuzz.trimf(career_experience.universe, [0, 0, 4])\n",
    "career_experience_B['intermediate'] = fuzz.trimf(career_experience.universe, [3, 5, 8])\n",
    "career_experience_B['expert'] = fuzz.trimf(career_experience.universe, [6, 10, 10])\n",
    "\n",
    "# compatibility_fs['low'] = fuzz.trimf(compatibility.universe, [0, 0, 5])\n",
    "# compatibility_fs['medium'] = fuzz.trimf(compatibility.universe, [0, 5, 10])\n",
    "# compatibility_fs['high'] = fuzz.trimf(compatibility.universe, [5, 10, 10])\n",
    "\n",
    "# compatibility_ps['low'] = fuzz.trimf(compatibility.universe, [0, 0, 5])\n",
    "# compatibility_ps['medium'] = fuzz.trimf(compatibility.universe, [0, 5, 10])\n",
    "# compatibility_ps['high'] = fuzz.trimf(compatibility.universe, [5, 10, 10])\n",
    "\n",
    "# compatibility_ce['low'] = fuzz.trimf(compatibility.universe, [0, 0, 5])\n",
    "# compatibility_ce['medium'] = fuzz.trimf(compatibility.universe, [0, 5, 10])\n",
    "# compatibility_ce['high'] = fuzz.trimf(compatibility.universe, [5, 10, 10])\n",
    "\n",
    "compatibility['low'] = fuzz.trimf(compatibility.universe, [0, 0, 5])\n",
    "compatibility['medium'] = fuzz.trimf(compatibility.universe, [0, 5, 10])\n",
    "compatibility['high'] = fuzz.trimf(compatibility.universe, [5, 10, 10])"
   ]
  },
  {
   "cell_type": "code",
   "execution_count": 124,
   "metadata": {},
   "outputs": [
    {
     "data": {
      "image/png": "[encoded data removed]",
      "text/plain": [
       "<Figure size 432x288 with 1 Axes>"
      ]
     },
     "metadata": {
      "needs_background": "light"
     },
     "output_type": "display_data"
    }
   ],
   "source": [
    "career_experience.view()"
   ]
  },
  {
   "cell_type": "code",
   "execution_count": 134,
   "metadata": {},
   "outputs": [],
   "source": [
    "# Step 3: Fuzzy Rules for Compatibility based on Financial Standing\n",
    "rule1_fs = ctrl.Rule(financial_standing['poor'] & financial_standing_B['rich'], compatibility['low'])\n",
    "rule2_fs = ctrl.Rule(financial_standing['rich'] & financial_standing_B['poor'], compatibility['low'])\n",
    "\n",
    "rule3_fs = ctrl.Rule(financial_standing['mid-class'] & (financial_standing_B['poor'] | financial_standing_B['rich']), compatibility['medium'])\n",
    "rule4_fs = ctrl.Rule(financial_standing_B['mid-class'] & (financial_standing['poor'] | financial_standing['rich']), compatibility['medium'])\n",
    "\n",
    "rule5_fs = ctrl.Rule(financial_standing['poor'] & financial_standing_B['poor'], compatibility['high'])\n",
    "rule6_fs = ctrl.Rule(financial_standing['mid-class'] & financial_standing_B['mid-class'], compatibility['high'])\n",
    "rule7_fs = ctrl.Rule(financial_standing['rich'] & financial_standing_B['rich'], compatibility['high'])\n",
    "\n",
    "financial_standing_ctrl = ctrl.ControlSystem([rule1_fs, rule2_fs, rule3_fs, rule4_fs, rule5_fs, rule6_fs, rule7_fs])\n",
    "financial_standing_compatibility = ctrl.ControlSystemSimulation(financial_standing_ctrl)\n",
    "\n",
    "# Step 3: Fuzzy Rules for Compatibility based on Political Stance\n",
    "rule1_ps = ctrl.Rule(political_stance['left'] & political_stance_B['right'], compatibility['low'])\n",
    "rule2_ps = ctrl.Rule(political_stance['right'] & political_stance_B['left'], compatibility['low'])\n",
    "\n",
    "rule3_ps = ctrl.Rule(political_stance['centre'] | political_stance_B['centre'], compatibility['medium'])\n",
    "\n",
    "rule4_ps = ctrl.Rule(political_stance['right'] & political_stance_B['right'], compatibility['high'])\n",
    "rule5_ps = ctrl.Rule(political_stance['left'] & political_stance_B['left'], compatibility['high'])\n",
    "rule6_ps = ctrl.Rule(political_stance['centre'] & political_stance_B['centre'], compatibility['high'])\n",
    "\n",
    "political_stance_ctrl = ctrl.ControlSystem([rule1_ps, rule2_ps, rule3_ps, rule4_ps, rule5_ps, rule6_ps])\n",
    "political_stance_compatibility = ctrl.ControlSystemSimulation(political_stance_ctrl)\n",
    "\n",
    "# Step 3: Fuzzy Rules for Compatibility based on Career Experience\n",
    "rule1_ce = ctrl.Rule(career_experience['novice'] & career_experience_B['expert'], compatibility['low'])\n",
    "rule2_ce = ctrl.Rule(career_experience['expert'] & career_experience_B['novice'], compatibility['low'])\n",
    "\n",
    "rule3_ce = ctrl.Rule(career_experience['intermediate'] | career_experience_B['intermediate'], compatibility['medium'])\n",
    "\n",
    "rule4_ce = ctrl.Rule(career_experience['expert'] & career_experience_B['expert'], compatibility['high'])\n",
    "rule5_ce = ctrl.Rule(career_experience['novice'] & career_experience_B['novice'], compatibility['high'])\n",
    "rule6_ce = ctrl.Rule(career_experience['intermediate'] & career_experience_B['intermediate'], compatibility['high'])\n",
    "\n",
    "career_experience_ctrl = ctrl.ControlSystem([rule1_ce, rule2_ce, rule3_ce, rule4_ce, rule5_ce, rule6_ce])\n",
    "career_experience_compatibility = ctrl.ControlSystemSimulation(career_experience_ctrl)\n",
    "\n",
    "# # Step 3: Fuzzy Rules for Overall Compatibility\n",
    "# rule1_oc = ctrl.Rule(compatibility_fs['low'] & compatibility_ps['low'], compatibility['low'])\n",
    "\n",
    "# rule5_oc = ctrl.Rule(compatibility_ps['medium'] & compatibility_ce['medium'], compatibility['medium'])\n",
    "\n",
    "# rule9_oc = ctrl.Rule(compatibility_ce['high'] & compatibility_fs['high'], compatibility['high'])\n",
    "\n",
    "# overall_compatibility_ctrl = ctrl.ControlSystem([rule1_oc, rule5_oc, rule9_oc])\n",
    "# overall_compatibility_compatibility = ctrl.ControlSystemSimulation(overall_compatibility_ctrl)"
   ]
  },
  {
   "cell_type": "code",
   "execution_count": 119,
   "metadata": {},
   "outputs": [],
   "source": [
    "# Pass inputs to the ControlSystem using Antecedent labels with Pythonic API\n",
    "# Note: if you like passing many inputs all at once, use .inputs(dict_of_data)\n",
    "financial_standing_compatibility.input['financial_standing'] = 5\n",
    "financial_standing_compatibility.input['financial_standing_B'] = 8\n",
    "\n",
    "# Crunch the numbers\n",
    "financial_standing_compatibility.compute()\n",
    "\n",
    "political_stance_compatibility.input['political_stance'] = 3\n",
    "political_stance_compatibility.input['political_stance_B'] = 4\n",
    "\n",
    "# Crunch the numbers\n",
    "political_stance_compatibility.compute()\n",
    "\n",
    "career_experience_compatibility.input['career_experience'] = 2\n",
    "career_experience_compatibility.input['career_experience_B'] = 2\n",
    "\n",
    "# Crunch the numbers\n",
    "career_experience_compatibility.compute()"
   ]
  },
  {
   "cell_type": "code",
   "execution_count": 135,
   "metadata": {},
   "outputs": [
    {
     "ename": "KeyError",
     "evalue": "'compatibility'",
     "output_type": "error",
     "traceback": [
      "\u001b[0;31m---------------------------------------------------------------------------\u001b[0m",
      "\u001b[0;31mKeyError\u001b[0m                                  Traceback (most recent call last)",
      "\u001b[0;32m<ipython-input-135-a342a952aa78>\u001b[0m in \u001b[0;36m<module>\u001b[0;34m\u001b[0m\n\u001b[0;32m----> 1\u001b[0;31m \u001b[0mprint\u001b[0m\u001b[0;34m(\u001b[0m\u001b[0;34m\"Financial Compatibility\"\u001b[0m\u001b[0;34m,\u001b[0m \u001b[0mfinancial_standing_compatibility\u001b[0m\u001b[0;34m.\u001b[0m\u001b[0moutput\u001b[0m\u001b[0;34m[\u001b[0m\u001b[0;34m'compatibility'\u001b[0m\u001b[0;34m]\u001b[0m\u001b[0;34m)\u001b[0m\u001b[0;34m\u001b[0m\u001b[0;34m\u001b[0m\u001b[0m\n\u001b[0m\u001b[1;32m      2\u001b[0m \u001b[0mcompatibility\u001b[0m\u001b[0;34m.\u001b[0m\u001b[0mview\u001b[0m\u001b[0;34m(\u001b[0m\u001b[0msim\u001b[0m\u001b[0;34m=\u001b[0m\u001b[0mfinancial_standing_compatibility\u001b[0m\u001b[0;34m)\u001b[0m\u001b[0;34m\u001b[0m\u001b[0;34m\u001b[0m\u001b[0m\n\u001b[1;32m      3\u001b[0m \u001b[0;34m\u001b[0m\u001b[0m\n\u001b[1;32m      4\u001b[0m \u001b[0mprint\u001b[0m\u001b[0;34m(\u001b[0m\u001b[0;34m\"Political Compatibility\"\u001b[0m\u001b[0;34m,\u001b[0m \u001b[0mpolitical_stance_compatibility\u001b[0m\u001b[0;34m.\u001b[0m\u001b[0moutput\u001b[0m\u001b[0;34m[\u001b[0m\u001b[0;34m'compatibility'\u001b[0m\u001b[0;34m]\u001b[0m\u001b[0;34m)\u001b[0m\u001b[0;34m\u001b[0m\u001b[0;34m\u001b[0m\u001b[0m\n\u001b[1;32m      5\u001b[0m \u001b[0mcompatibility\u001b[0m\u001b[0;34m.\u001b[0m\u001b[0mview\u001b[0m\u001b[0;34m(\u001b[0m\u001b[0msim\u001b[0m\u001b[0;34m=\u001b[0m\u001b[0mpolitical_stance_compatibility\u001b[0m\u001b[0;34m)\u001b[0m\u001b[0;34m\u001b[0m\u001b[0;34m\u001b[0m\u001b[0m\n",
      "\u001b[0;31mKeyError\u001b[0m: 'compatibility'"
     ]
    }
   ],
   "source": [
    "print(\"Financial Compatibility\", financial_standing_compatibility.output['compatibility'])\n",
    "compatibility.view(sim=financial_standing_compatibility)\n",
    "\n",
    "print(\"Political Compatibility\", political_stance_compatibility.output['compatibility'])\n",
    "compatibility.view(sim=political_stance_compatibility)\n",
    "\n",
    "print(\"Career Compatibility\", career_experience_compatibility.output['compatibility'])\n",
    "compatibility.view(sim=career_experience_compatibility)"
   ]
  },
  {
   "cell_type": "code",
   "execution_count": null,
   "metadata": {},
   "outputs": [],
   "source": []
  }
 ],
 "metadata": {
  "kernelspec": {
   "display_name": "Python 3",
   "language": "python",
   "name": "python3"
  },
  "language_info": {
   "codemirror_mode": {
    "name": "ipython",
    "version": 3
   },
   "file_extension": ".py",
   "mimetype": "text/x-python",
   "name": "python",
   "nbconvert_exporter": "python",
   "pygments_lexer": "ipython3",
   "version": "3.7.5"
  }
 },
 "nbformat": 4,
 "nbformat_minor": 2
}
