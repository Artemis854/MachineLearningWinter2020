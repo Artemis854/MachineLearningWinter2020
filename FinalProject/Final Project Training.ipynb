{
 "cells": [
  {
   "cell_type": "code",
   "execution_count": 305,
   "metadata": {},
   "outputs": [],
   "source": [
    "import pandas as pd\n",
    "import matplotlib.pyplot as plt\n",
    "from mpl_toolkits.mplot3d import Axes3D\n",
    "from sklearn import preprocessing\n",
    "\n",
    "df = pd.read_csv('./final_data.csv')\n",
    "\n",
    "dfYes = df.iloc[::3, :].reset_index(drop=True)\n",
    "dfYes.columns = ['G1-Yes', 'G2-Yes', 'G3-Yes', 'G4-Yes']\n",
    "\n",
    "dfNo = df.iloc[1::3, :].reset_index(drop=True)\n",
    "dfNo.columns = ['G1-No', 'G2-No', 'G3-No', 'G4-No']\n",
    "\n",
    "dfUndecided = df.iloc[2::3, :].reset_index(drop=True)\n",
    "dfUndecided.columns = ['G1-Undecided', 'G2-Undecided', 'G3-Undecided', 'G4-Undecided']"
   ]
  },
  {
   "cell_type": "code",
   "execution_count": 306,
   "metadata": {},
   "outputs": [],
   "source": [
    "df = pd.concat([dfYes, dfNo, dfUndecided], axis=1)"
   ]
  },
  {
   "cell_type": "code",
   "execution_count": 51,
   "metadata": {},
   "outputs": [
    {
     "data": {
      "text/html": [
       "<div>\n",
       "<style scoped>\n",
       "    .dataframe tbody tr th:only-of-type {\n",
       "        vertical-align: middle;\n",
       "    }\n",
       "\n",
       "    .dataframe tbody tr th {\n",
       "        vertical-align: top;\n",
       "    }\n",
       "\n",
       "    .dataframe thead th {\n",
       "        text-align: right;\n",
       "    }\n",
       "</style>\n",
       "<table border=\"1\" class=\"dataframe\">\n",
       "  <thead>\n",
       "    <tr style=\"text-align: right;\">\n",
       "      <th></th>\n",
       "      <th>G1-Yes</th>\n",
       "      <th>G2-Yes</th>\n",
       "      <th>G3-Yes</th>\n",
       "      <th>G4-Yes</th>\n",
       "      <th>G1-No</th>\n",
       "      <th>G2-No</th>\n",
       "      <th>G3-No</th>\n",
       "      <th>G4-No</th>\n",
       "      <th>G1-Undecided</th>\n",
       "      <th>G2-Undecided</th>\n",
       "      <th>G3-Undecided</th>\n",
       "      <th>G4-Undecided</th>\n",
       "    </tr>\n",
       "  </thead>\n",
       "  <tbody>\n",
       "    <tr>\n",
       "      <th>count</th>\n",
       "      <td>15.000000</td>\n",
       "      <td>15.000000</td>\n",
       "      <td>15.000000</td>\n",
       "      <td>15.000000</td>\n",
       "      <td>15.000000</td>\n",
       "      <td>15.000000</td>\n",
       "      <td>15.000000</td>\n",
       "      <td>15.000000</td>\n",
       "      <td>15.000000</td>\n",
       "      <td>15.000000</td>\n",
       "      <td>15.000000</td>\n",
       "      <td>15.000000</td>\n",
       "    </tr>\n",
       "    <tr>\n",
       "      <th>mean</th>\n",
       "      <td>45.133333</td>\n",
       "      <td>47.133333</td>\n",
       "      <td>51.466667</td>\n",
       "      <td>49.933333</td>\n",
       "      <td>47.800000</td>\n",
       "      <td>48.800000</td>\n",
       "      <td>43.666667</td>\n",
       "      <td>47.800000</td>\n",
       "      <td>7.066667</td>\n",
       "      <td>4.066667</td>\n",
       "      <td>4.866667</td>\n",
       "      <td>2.266667</td>\n",
       "    </tr>\n",
       "    <tr>\n",
       "      <th>std</th>\n",
       "      <td>42.150863</td>\n",
       "      <td>26.199418</td>\n",
       "      <td>37.760271</td>\n",
       "      <td>45.760973</td>\n",
       "      <td>41.973121</td>\n",
       "      <td>26.748031</td>\n",
       "      <td>38.649832</td>\n",
       "      <td>43.974343</td>\n",
       "      <td>17.498843</td>\n",
       "      <td>11.202466</td>\n",
       "      <td>11.160304</td>\n",
       "      <td>5.848891</td>\n",
       "    </tr>\n",
       "    <tr>\n",
       "      <th>min</th>\n",
       "      <td>0.000000</td>\n",
       "      <td>6.000000</td>\n",
       "      <td>0.000000</td>\n",
       "      <td>0.000000</td>\n",
       "      <td>0.000000</td>\n",
       "      <td>0.000000</td>\n",
       "      <td>0.000000</td>\n",
       "      <td>0.000000</td>\n",
       "      <td>0.000000</td>\n",
       "      <td>0.000000</td>\n",
       "      <td>0.000000</td>\n",
       "      <td>0.000000</td>\n",
       "    </tr>\n",
       "    <tr>\n",
       "      <th>25%</th>\n",
       "      <td>5.500000</td>\n",
       "      <td>25.000000</td>\n",
       "      <td>14.000000</td>\n",
       "      <td>0.000000</td>\n",
       "      <td>8.500000</td>\n",
       "      <td>33.500000</td>\n",
       "      <td>11.000000</td>\n",
       "      <td>6.000000</td>\n",
       "      <td>0.000000</td>\n",
       "      <td>0.000000</td>\n",
       "      <td>0.000000</td>\n",
       "      <td>0.000000</td>\n",
       "    </tr>\n",
       "    <tr>\n",
       "      <th>50%</th>\n",
       "      <td>33.000000</td>\n",
       "      <td>50.000000</td>\n",
       "      <td>50.000000</td>\n",
       "      <td>50.000000</td>\n",
       "      <td>39.000000</td>\n",
       "      <td>44.000000</td>\n",
       "      <td>28.000000</td>\n",
       "      <td>44.000000</td>\n",
       "      <td>0.000000</td>\n",
       "      <td>0.000000</td>\n",
       "      <td>0.000000</td>\n",
       "      <td>0.000000</td>\n",
       "    </tr>\n",
       "    <tr>\n",
       "      <th>75%</th>\n",
       "      <td>91.500000</td>\n",
       "      <td>61.000000</td>\n",
       "      <td>89.000000</td>\n",
       "      <td>94.000000</td>\n",
       "      <td>94.500000</td>\n",
       "      <td>64.000000</td>\n",
       "      <td>86.000000</td>\n",
       "      <td>94.000000</td>\n",
       "      <td>0.000000</td>\n",
       "      <td>0.000000</td>\n",
       "      <td>0.000000</td>\n",
       "      <td>0.000000</td>\n",
       "    </tr>\n",
       "    <tr>\n",
       "      <th>max</th>\n",
       "      <td>100.000000</td>\n",
       "      <td>100.000000</td>\n",
       "      <td>100.000000</td>\n",
       "      <td>100.000000</td>\n",
       "      <td>100.000000</td>\n",
       "      <td>94.000000</td>\n",
       "      <td>100.000000</td>\n",
       "      <td>100.000000</td>\n",
       "      <td>50.000000</td>\n",
       "      <td>39.000000</td>\n",
       "      <td>39.000000</td>\n",
       "      <td>22.000000</td>\n",
       "    </tr>\n",
       "  </tbody>\n",
       "</table>\n",
       "</div>"
      ],
      "text/plain": [
       "           G1-Yes      G2-Yes      G3-Yes      G4-Yes       G1-No      G2-No  \\\n",
       "count   15.000000   15.000000   15.000000   15.000000   15.000000  15.000000   \n",
       "mean    45.133333   47.133333   51.466667   49.933333   47.800000  48.800000   \n",
       "std     42.150863   26.199418   37.760271   45.760973   41.973121  26.748031   \n",
       "min      0.000000    6.000000    0.000000    0.000000    0.000000   0.000000   \n",
       "25%      5.500000   25.000000   14.000000    0.000000    8.500000  33.500000   \n",
       "50%     33.000000   50.000000   50.000000   50.000000   39.000000  44.000000   \n",
       "75%     91.500000   61.000000   89.000000   94.000000   94.500000  64.000000   \n",
       "max    100.000000  100.000000  100.000000  100.000000  100.000000  94.000000   \n",
       "\n",
       "            G3-No       G4-No  G1-Undecided  G2-Undecided  G3-Undecided  \\\n",
       "count   15.000000   15.000000     15.000000     15.000000     15.000000   \n",
       "mean    43.666667   47.800000      7.066667      4.066667      4.866667   \n",
       "std     38.649832   43.974343     17.498843     11.202466     11.160304   \n",
       "min      0.000000    0.000000      0.000000      0.000000      0.000000   \n",
       "25%     11.000000    6.000000      0.000000      0.000000      0.000000   \n",
       "50%     28.000000   44.000000      0.000000      0.000000      0.000000   \n",
       "75%     86.000000   94.000000      0.000000      0.000000      0.000000   \n",
       "max    100.000000  100.000000     50.000000     39.000000     39.000000   \n",
       "\n",
       "       G4-Undecided  \n",
       "count     15.000000  \n",
       "mean       2.266667  \n",
       "std        5.848891  \n",
       "min        0.000000  \n",
       "25%        0.000000  \n",
       "50%        0.000000  \n",
       "75%        0.000000  \n",
       "max       22.000000  "
      ]
     },
     "execution_count": 51,
     "metadata": {},
     "output_type": "execute_result"
    }
   ],
   "source": [
    "df.describe()"
   ]
  },
  {
   "cell_type": "code",
   "execution_count": 52,
   "metadata": {},
   "outputs": [
    {
     "data": {
      "text/html": [
       "<div>\n",
       "<style scoped>\n",
       "    .dataframe tbody tr th:only-of-type {\n",
       "        vertical-align: middle;\n",
       "    }\n",
       "\n",
       "    .dataframe tbody tr th {\n",
       "        vertical-align: top;\n",
       "    }\n",
       "\n",
       "    .dataframe thead th {\n",
       "        text-align: right;\n",
       "    }\n",
       "</style>\n",
       "<table border=\"1\" class=\"dataframe\">\n",
       "  <thead>\n",
       "    <tr style=\"text-align: right;\">\n",
       "      <th></th>\n",
       "      <th>G1</th>\n",
       "      <th>G2</th>\n",
       "      <th>G3</th>\n",
       "      <th>G4</th>\n",
       "    </tr>\n",
       "  </thead>\n",
       "  <tbody>\n",
       "    <tr>\n",
       "      <th>count</th>\n",
       "      <td>45.000000</td>\n",
       "      <td>45.000000</td>\n",
       "      <td>45.000000</td>\n",
       "      <td>45.000000</td>\n",
       "    </tr>\n",
       "    <tr>\n",
       "      <th>mean</th>\n",
       "      <td>33.333333</td>\n",
       "      <td>33.333333</td>\n",
       "      <td>33.333333</td>\n",
       "      <td>33.333333</td>\n",
       "    </tr>\n",
       "    <tr>\n",
       "      <th>std</th>\n",
       "      <td>39.715465</td>\n",
       "      <td>30.404844</td>\n",
       "      <td>37.327786</td>\n",
       "      <td>42.270235</td>\n",
       "    </tr>\n",
       "    <tr>\n",
       "      <th>min</th>\n",
       "      <td>0.000000</td>\n",
       "      <td>0.000000</td>\n",
       "      <td>0.000000</td>\n",
       "      <td>0.000000</td>\n",
       "    </tr>\n",
       "    <tr>\n",
       "      <th>25%</th>\n",
       "      <td>0.000000</td>\n",
       "      <td>0.000000</td>\n",
       "      <td>0.000000</td>\n",
       "      <td>0.000000</td>\n",
       "    </tr>\n",
       "    <tr>\n",
       "      <th>50%</th>\n",
       "      <td>11.000000</td>\n",
       "      <td>28.000000</td>\n",
       "      <td>17.000000</td>\n",
       "      <td>6.000000</td>\n",
       "    </tr>\n",
       "    <tr>\n",
       "      <th>75%</th>\n",
       "      <td>61.000000</td>\n",
       "      <td>56.000000</td>\n",
       "      <td>55.000000</td>\n",
       "      <td>83.000000</td>\n",
       "    </tr>\n",
       "    <tr>\n",
       "      <th>max</th>\n",
       "      <td>100.000000</td>\n",
       "      <td>100.000000</td>\n",
       "      <td>100.000000</td>\n",
       "      <td>100.000000</td>\n",
       "    </tr>\n",
       "  </tbody>\n",
       "</table>\n",
       "</div>"
      ],
      "text/plain": [
       "               G1          G2          G3          G4\n",
       "count   45.000000   45.000000   45.000000   45.000000\n",
       "mean    33.333333   33.333333   33.333333   33.333333\n",
       "std     39.715465   30.404844   37.327786   42.270235\n",
       "min      0.000000    0.000000    0.000000    0.000000\n",
       "25%      0.000000    0.000000    0.000000    0.000000\n",
       "50%     11.000000   28.000000   17.000000    6.000000\n",
       "75%     61.000000   56.000000   55.000000   83.000000\n",
       "max    100.000000  100.000000  100.000000  100.000000"
      ]
     },
     "execution_count": 52,
     "metadata": {},
     "output_type": "execute_result"
    }
   ],
   "source": [
    "df = pd.read_csv('./final_data.csv')\n",
    "df.describe()"
   ]
  },
  {
   "cell_type": "code",
   "execution_count": 145,
   "metadata": {},
   "outputs": [
    {
     "data": {
      "text/plain": [
       "Counter({False: 308, True: 492})"
      ]
     },
     "execution_count": 145,
     "metadata": {},
     "output_type": "execute_result"
    }
   ],
   "source": [
    "# K-means clustering\n",
    "\n",
    "from collections import Counter\n",
    "\n",
    "data = pd.read_csv('./generated_data.csv').drop('group', axis=1)\n",
    "\n",
    "# Using scikit-learn to perform K-Means clustering\n",
    "from sklearn.cluster import KMeans\n",
    "    \n",
    "# Specify the number of clusters (4) and fit the data X\n",
    "kmeans = KMeans(n_clusters=4).fit(data.values)\n",
    "\n",
    "labels = pd.read_csv('./generated_data.csv')['group']\n",
    "comparisons = Counter([a == labels.values[index] for index, a in enumerate(kmeans.labels_)])\n",
    "comparisons"
   ]
  },
  {
   "cell_type": "code",
   "execution_count": 157,
   "metadata": {},
   "outputs": [
    {
     "data": {
      "text/plain": [
       "Counter({True: 109, False: 51})"
      ]
     },
     "execution_count": 157,
     "metadata": {},
     "output_type": "execute_result"
    }
   ],
   "source": [
    "# K-means clustering\n",
    "\n",
    "from collections import Counter\n",
    "\n",
    "data = pd.read_csv('./data_small.csv').drop('group', axis=1)\n",
    "\n",
    "# Using scikit-learn to perform K-Means clustering\n",
    "from sklearn.cluster import KMeans\n",
    "    \n",
    "# Specify the number of clusters (4) and fit the data X\n",
    "kmeans = KMeans(n_clusters=4).fit(data.values)\n",
    "\n",
    "labels = pd.read_csv('./data_small.csv')['group']\n",
    "comparisons = Counter([a == labels.values[index] for index, a in enumerate(kmeans.labels_)])\n",
    "comparisons"
   ]
  },
  {
   "cell_type": "code",
   "execution_count": 155,
   "metadata": {},
   "outputs": [
    {
     "data": {
      "text/plain": [
       "Counter({True: 45448, False: 34552})"
      ]
     },
     "execution_count": 155,
     "metadata": {},
     "output_type": "execute_result"
    }
   ],
   "source": [
    "# K-means clustering\n",
    "\n",
    "from collections import Counter\n",
    "\n",
    "data = pd.read_csv('./data_big.csv').drop('group', axis=1)\n",
    "\n",
    "# Using scikit-learn to perform K-Means clustering\n",
    "from sklearn.cluster import KMeans\n",
    "    \n",
    "# Specify the number of clusters (4) and fit the data X\n",
    "kmeans = KMeans(n_clusters=4).fit(data.values)\n",
    "\n",
    "\n",
    "labels = pd.read_csv('./data_big.csv')['group']\n",
    "comparisons = Counter([a == labels.values[index] for index, a in enumerate(kmeans.labels_)])\n",
    "comparisons"
   ]
  },
  {
   "cell_type": "code",
   "execution_count": 301,
   "metadata": {},
   "outputs": [
    {
     "data": {
      "text/plain": [
       "Counter({False: 732, True: 68})"
      ]
     },
     "execution_count": 301,
     "metadata": {},
     "output_type": "execute_result"
    }
   ],
   "source": [
    "# Agglomerative Clustering\n",
    "\n",
    "from collections import Counter\n",
    "\n",
    "data = pd.read_csv('./generated_data.csv').drop('group', axis=1)\n",
    "\n",
    "# Using scikit-learn to perform Agglomerative Clustering\n",
    "from sklearn.cluster import AgglomerativeClustering\n",
    "    \n",
    "# Specify the number of clusters (4) and fit the data X\n",
    "ac = AgglomerativeClustering(n_clusters=4).fit(data.values)\n",
    "\n",
    "labels = pd.read_csv('./generated_data.csv')['group']\n",
    "comparisons = Counter([a == labels.values[index] for index, a in enumerate(ac.labels_)])\n",
    "comparisons"
   ]
  },
  {
   "cell_type": "code",
   "execution_count": 279,
   "metadata": {
    "scrolled": true
   },
   "outputs": [
    {
     "name": "stdout",
     "output_type": "stream",
     "text": [
      "Random Forest Classification\n",
      "=================================\n",
      "Test Accuracy:  0.8083333333333333\n",
      "Validation Accuracy:  0.7933625\n",
      "Feature ranking:\n"
     ]
    },
    {
     "data": {
      "image/png": "[encoded data removed]",
      "text/plain": [
       "<Figure size 432x288 with 1 Axes>"
      ]
     },
     "metadata": {
      "needs_background": "light"
     },
     "output_type": "display_data"
    },
    {
     "name": "stdout",
     "output_type": "stream",
     "text": [
      "=================================\n",
      "=================================\n",
      "Test Accuracy:  0.7625\n",
      "Validation Accuracy:  0.7841875\n",
      "Feature ranking:\n"
     ]
    },
    {
     "data": {
      "image/png": "[encoded data removed]",
      "text/plain": [
       "<Figure size 432x288 with 1 Axes>"
      ]
     },
     "metadata": {
      "needs_background": "light"
     },
     "output_type": "display_data"
    },
    {
     "name": "stdout",
     "output_type": "stream",
     "text": [
      "=================================\n",
      "=================================\n",
      "Test Accuracy:  0.7958333333333333\n",
      "Validation Accuracy:  0.793725\n",
      "Feature ranking:\n"
     ]
    },
    {
     "data": {
      "image/png": "[encoded data removed]",
      "text/plain": [
       "<Figure size 432x288 with 1 Axes>"
      ]
     },
     "metadata": {
      "needs_background": "light"
     },
     "output_type": "display_data"
    },
    {
     "name": "stdout",
     "output_type": "stream",
     "text": [
      "=================================\n",
      "=================================\n",
      "Test Accuracy:  0.8041666666666667\n",
      "Validation Accuracy:  0.788675\n",
      "Feature ranking:\n"
     ]
    },
    {
     "data": {
      "image/png": "[encoded data removed]",
      "text/plain": [
       "<Figure size 432x288 with 1 Axes>"
      ]
     },
     "metadata": {
      "needs_background": "light"
     },
     "output_type": "display_data"
    },
    {
     "name": "stdout",
     "output_type": "stream",
     "text": [
      "=================================\n",
      "=================================\n",
      "Test Accuracy:  0.7666666666666667\n",
      "Validation Accuracy:  0.7905875\n",
      "Feature ranking:\n"
     ]
    },
    {
     "data": {
      "image/png": "[encoded data removed]",
      "text/plain": [
       "<Figure size 432x288 with 1 Axes>"
      ]
     },
     "metadata": {
      "needs_background": "light"
     },
     "output_type": "display_data"
    },
    {
     "name": "stdout",
     "output_type": "stream",
     "text": [
      "=================================\n"
     ]
    }
   ],
   "source": [
    "from sklearn.model_selection import train_test_split\n",
    "\n",
    "df = pd.read_csv('./generated_data.csv')\n",
    "X = df.drop('group', axis=1)\n",
    "y = df['group']\n",
    "\n",
    "val_df = pd.read_csv('./data_big.csv')\n",
    "val_X = val_df.drop('group', axis=1)\n",
    "val_y = val_df['group']\n",
    "\n",
    "from sklearn.ensemble import RandomForestClassifier\n",
    "\n",
    "print(\"Random Forest Classification\")\n",
    "for _ in range(5):\n",
    "    X_train, X_test, y_train, y_test = train_test_split(\n",
    "    X, y, test_size=0.30)\n",
    "    forest = RandomForestClassifier()\n",
    "    forest.fit(X_train, y_train)\n",
    "\n",
    "    print(\"=================================\")\n",
    "    print(\"Test Accuracy: \", forest.score(X_test, y_test))\n",
    "    print(\"Validation Accuracy: \", forest.score(val_X, val_y))\n",
    "    importances = forest.feature_importances_\n",
    "    std = np.std([tree.feature_importances_ for tree in forest.estimators_],\n",
    "                 axis=0)\n",
    "    indices = np.argsort(importances)[::-1]\n",
    "\n",
    "    # Print the feature ranking\n",
    "    print(\"Feature ranking:\")\n",
    "\n",
    "#     for f in range(X.shape[1]):\n",
    "#         print(\"%d. feature %d (%f)\" % (f + 1, indices[f], importances[indices[f]]))\n",
    "\n",
    "    # Plot the feature importances of the forest\n",
    "    plt.figure()\n",
    "    plt.title(\"Feature importances\")\n",
    "    plt.bar(range(X.shape[1]), importances[indices],\n",
    "           color=\"r\", yerr=std[indices], align=\"center\")\n",
    "    plt.xticks(range(X.shape[1]), indices)\n",
    "    plt.xlim([-1, X.shape[1]])\n",
    "    plt.show()\n",
    "    print(\"=================================\")"
   ]
  },
  {
   "cell_type": "code",
   "execution_count": 235,
   "metadata": {
    "scrolled": false
   },
   "outputs": [
    {
     "name": "stdout",
     "output_type": "stream",
     "text": [
      "Random Forest Classification\n",
      "=================================\n",
      "Test Accuracy:  0.8916666666666667\n",
      "Validation Accuracy:  0.789325\n",
      "Feature ranking:\n"
     ]
    },
    {
     "data": {
      "image/png": "[encoded data removed]",
      "text/plain": [
       "<Figure size 432x288 with 1 Axes>"
      ]
     },
     "metadata": {
      "needs_background": "light"
     },
     "output_type": "display_data"
    },
    {
     "name": "stdout",
     "output_type": "stream",
     "text": [
      "=================================\n",
      "=================================\n",
      "Test Accuracy:  0.9041666666666667\n",
      "Validation Accuracy:  0.789325\n",
      "Feature ranking:\n"
     ]
    },
    {
     "data": {
      "image/png": "[encoded data removed]",
      "text/plain": [
       "<Figure size 432x288 with 1 Axes>"
      ]
     },
     "metadata": {
      "needs_background": "light"
     },
     "output_type": "display_data"
    },
    {
     "name": "stdout",
     "output_type": "stream",
     "text": [
      "=================================\n",
      "=================================\n",
      "Test Accuracy:  0.8916666666666667\n",
      "Validation Accuracy:  0.789325\n",
      "Feature ranking:\n"
     ]
    },
    {
     "data": {
      "image/png": "[encoded data removed]",
      "text/plain": [
       "<Figure size 432x288 with 1 Axes>"
      ]
     },
     "metadata": {
      "needs_background": "light"
     },
     "output_type": "display_data"
    },
    {
     "name": "stdout",
     "output_type": "stream",
     "text": [
      "=================================\n",
      "=================================\n",
      "Test Accuracy:  0.8958333333333334\n",
      "Validation Accuracy:  0.789325\n",
      "Feature ranking:\n"
     ]
    },
    {
     "data": {
      "image/png": "[encoded data removed]",
      "text/plain": [
       "<Figure size 432x288 with 1 Axes>"
      ]
     },
     "metadata": {
      "needs_background": "light"
     },
     "output_type": "display_data"
    },
    {
     "name": "stdout",
     "output_type": "stream",
     "text": [
      "=================================\n",
      "=================================\n",
      "Test Accuracy:  0.9083333333333333\n",
      "Validation Accuracy:  0.789325\n",
      "Feature ranking:\n"
     ]
    },
    {
     "data": {
      "image/png": "[encoded data removed]",
      "text/plain": [
       "<Figure size 432x288 with 1 Axes>"
      ]
     },
     "metadata": {
      "needs_background": "light"
     },
     "output_type": "display_data"
    },
    {
     "name": "stdout",
     "output_type": "stream",
     "text": [
      "=================================\n"
     ]
    }
   ],
   "source": [
    "from sklearn.model_selection import train_test_split\n",
    "from sklearn.ensemble import ExtraTreesClassifier\n",
    "\n",
    "df = pd.read_csv('./generated_data.csv')\n",
    "X = df.drop('group', axis=1)\n",
    "y = df['group']\n",
    "\n",
    "val_df = pd.read_csv('./data_big.csv')\n",
    "val_X = val_df.drop('group', axis=1)\n",
    "val_y = val_df['group']\n",
    "\n",
    "print(\"Random Forest Classification\")\n",
    "for _ in range(5):\n",
    "    X_train, X_test, y_train, y_test = train_test_split(\n",
    "    X, y, test_size=0.30)\n",
    "    forest = ExtraTreesClassifier()\n",
    "    forest.fit(X_train, y_train)\n",
    "\n",
    "    print(\"=================================\")\n",
    "    print(\"Test Accuracy: \", forest.score(X_test, y_test))\n",
    "    print(\"Validation Accuracy: \", forest.score(val_X, val_y))\n",
    "    importances = forest.feature_importances_\n",
    "    std = np.std([tree.feature_importances_ for tree in forest.estimators_],\n",
    "                 axis=0)\n",
    "    indices = np.argsort(importances)[::-1]\n",
    "\n",
    "    # Print the feature ranking\n",
    "    print(\"Feature ranking:\")\n",
    "\n",
    "#     for f in range(X.shape[1]):\n",
    "#         print(\"%d. feature %d (%f)\" % (f + 1, indices[f], importances[indices[f]]))\n",
    "\n",
    "    # Plot the feature importances of the forest\n",
    "    plt.figure()\n",
    "    plt.title(\"Feature importances\")\n",
    "    plt.bar(range(X.shape[1]), importances[indices],\n",
    "           color=\"r\", yerr=std[indices], align=\"center\")\n",
    "    plt.xticks(range(X.shape[1]), indices)\n",
    "    plt.xlim([-1, X.shape[1]])\n",
    "    plt.show()\n",
    "    print(\"=================================\")"
   ]
  },
  {
   "cell_type": "code",
   "execution_count": 295,
   "metadata": {},
   "outputs": [],
   "source": [
    "# Classification using ANN\n",
    "\n",
    "from tensorflow import keras\n",
    "\n",
    "feature_reduction = ['q12', 'q10', 'q13', 'q7', 'q2', 'q8', 'q9', 'group']\n",
    "\n",
    "df = pd.read_csv('./data_big.csv')\n",
    "X = df.drop(feature_reduction, axis=1)\n",
    "y = df['group']\n",
    "\n",
    "val_df = pd.read_csv('./data_validation.csv')\n",
    "val_X = val_df.drop(feature_reduction, axis=1)\n",
    "val_y = val_df['group']\n",
    "\n",
    "X_train, X_test, y_train, y_test = train_test_split(X, y, test_size=0.30)"
   ]
  },
  {
   "cell_type": "code",
   "execution_count": 296,
   "metadata": {},
   "outputs": [],
   "source": [
    "from tensorflow.keras.models import Sequential\n",
    "from tensorflow.keras.layers import Dense\n",
    "\n",
    "from tensorflow.keras.callbacks import TensorBoard\n",
    "import datetime\n",
    "\n",
    "# Building Keras Model\n",
    "model = Sequential([\n",
    "    Dense(64, activation='relu', input_shape=(8,)),\n",
    "    Dense(64, activation='relu'),\n",
    "    Dense(64, activation='relu'),\n",
    "    Dense(4, activation='softmax'),\n",
    "])\n",
    "\n",
    "# Compile Keras Model\n",
    "model.compile(\n",
    "  optimizer='adam',\n",
    "  loss='sparse_categorical_crossentropy',\n",
    "  metrics=['accuracy'],\n",
    ")\n",
    "\n",
    "log_dir = \"logs/fit/Groups\" + datetime.datetime.now().strftime(\"%Y%m%d-%H%M%S\")\n",
    "tensorboard_callback = TensorBoard(log_dir=log_dir, histogram_freq=1)"
   ]
  },
  {
   "cell_type": "code",
   "execution_count": 297,
   "metadata": {},
   "outputs": [
    {
     "name": "stdout",
     "output_type": "stream",
     "text": [
      "Train on 56000 samples, validate on 24000 samples\n",
      "Epoch 1/15\n",
      "56000/56000 [==============================] - 4s 73us/sample - loss: 0.4991 - accuracy: 0.7954 - val_loss: 0.4690 - val_accuracy: 0.8017\n",
      "Epoch 2/15\n",
      "56000/56000 [==============================] - 4s 68us/sample - loss: 0.4564 - accuracy: 0.8103 - val_loss: 0.4603 - val_accuracy: 0.8110\n",
      "Epoch 3/15\n",
      "56000/56000 [==============================] - 4s 67us/sample - loss: 0.4516 - accuracy: 0.8115 - val_loss: 0.4591 - val_accuracy: 0.8125\n",
      "Epoch 4/15\n",
      "56000/56000 [==============================] - 4s 67us/sample - loss: 0.4503 - accuracy: 0.8121 - val_loss: 0.4537 - val_accuracy: 0.8098\n",
      "Epoch 5/15\n",
      "56000/56000 [==============================] - 4s 67us/sample - loss: 0.4494 - accuracy: 0.8126 - val_loss: 0.4582 - val_accuracy: 0.8122\n",
      "Epoch 6/15\n",
      "56000/56000 [==============================] - 4s 71us/sample - loss: 0.4480 - accuracy: 0.8121 - val_loss: 0.4508 - val_accuracy: 0.8113\n",
      "Epoch 7/15\n",
      "56000/56000 [==============================] - 4s 70us/sample - loss: 0.4468 - accuracy: 0.8119 - val_loss: 0.4517 - val_accuracy: 0.8080\n",
      "Epoch 8/15\n",
      "56000/56000 [==============================] - 4s 71us/sample - loss: 0.4462 - accuracy: 0.8121 - val_loss: 0.4486 - val_accuracy: 0.8125\n",
      "Epoch 9/15\n",
      "56000/56000 [==============================] - 4s 68us/sample - loss: 0.4453 - accuracy: 0.8142 - val_loss: 0.4496 - val_accuracy: 0.8111\n",
      "Epoch 10/15\n",
      "56000/56000 [==============================] - 4s 69us/sample - loss: 0.4449 - accuracy: 0.8133 - val_loss: 0.4550 - val_accuracy: 0.8128\n",
      "Epoch 11/15\n",
      "56000/56000 [==============================] - 4s 68us/sample - loss: 0.4442 - accuracy: 0.8144 - val_loss: 0.4473 - val_accuracy: 0.8112\n",
      "Epoch 12/15\n",
      "56000/56000 [==============================] - 4s 68us/sample - loss: 0.4443 - accuracy: 0.8141 - val_loss: 0.4517 - val_accuracy: 0.8086\n",
      "Epoch 13/15\n",
      "56000/56000 [==============================] - 4s 68us/sample - loss: 0.4431 - accuracy: 0.8136 - val_loss: 0.4512 - val_accuracy: 0.8106\n",
      "Epoch 14/15\n",
      "56000/56000 [==============================] - 4s 68us/sample - loss: 0.4434 - accuracy: 0.8133 - val_loss: 0.4568 - val_accuracy: 0.8078\n",
      "Epoch 15/15\n",
      "56000/56000 [==============================] - 4s 68us/sample - loss: 0.4436 - accuracy: 0.8143 - val_loss: 0.4484 - val_accuracy: 0.8129\n"
     ]
    }
   ],
   "source": [
    "model.fit(\n",
    "  X_train, # training data\n",
    "  y_train, # training targets\n",
    "  epochs=15,\n",
    "  batch_size=32,\n",
    "  validation_data=(X_test, y_test),\n",
    "  callbacks=[tensorboard_callback]\n",
    ")\n",
    "\n",
    "model.save_weights('./models/Groups_' + datetime.datetime.now().strftime(\"%Y%m%d-%H%M%S\") + '_model.h5')"
   ]
  },
  {
   "cell_type": "code",
   "execution_count": 298,
   "metadata": {},
   "outputs": [
    {
     "data": {
      "text/plain": [
       "Counter({True: 65017, False: 14983})"
      ]
     },
     "execution_count": 298,
     "metadata": {},
     "output_type": "execute_result"
    }
   ],
   "source": [
    "from collections import Counter\n",
    "\n",
    "predictions = model.predict(val_X)\n",
    "pred_array = np.argmax(predictions, axis=1)\n",
    "\n",
    "actual_array = val_y\n",
    "\n",
    "comparisons = Counter([a == actual_array[index] for index, a in enumerate(pred_array)])\n",
    "comparisons"
   ]
  },
  {
   "cell_type": "code",
   "execution_count": 302,
   "metadata": {},
   "outputs": [
    {
     "name": "stdout",
     "output_type": "stream",
     "text": [
      "Random Forest Classification\n",
      "=================================\n",
      "Test Accuracy:  0.8374583333333333\n",
      "Validation Accuracy:  0.8367125\n",
      "Feature ranking:\n"
     ]
    },
    {
     "data": {
      "image/png": "[encoded data removed]",
      "text/plain": [
       "<Figure size 432x288 with 1 Axes>"
      ]
     },
     "metadata": {
      "needs_background": "light"
     },
     "output_type": "display_data"
    },
    {
     "name": "stdout",
     "output_type": "stream",
     "text": [
      "=================================\n",
      "=================================\n",
      "Test Accuracy:  0.8365\n",
      "Validation Accuracy:  0.8371625\n",
      "Feature ranking:\n"
     ]
    },
    {
     "data": {
      "image/png": "[encoded data removed]",
      "text/plain": [
       "<Figure size 432x288 with 1 Axes>"
      ]
     },
     "metadata": {
      "needs_background": "light"
     },
     "output_type": "display_data"
    },
    {
     "name": "stdout",
     "output_type": "stream",
     "text": [
      "=================================\n"
     ]
    }
   ],
   "source": [
    "# RandomForest Reduced Features\n",
    "\n",
    "from sklearn.model_selection import train_test_split\n",
    "\n",
    "from sklearn.ensemble import RandomForestClassifier\n",
    "\n",
    "feature_reduction = ['group']\n",
    "\n",
    "df = pd.read_csv('./data_big.csv')\n",
    "X = df.drop(feature_reduction, axis=1)\n",
    "y = df['group']\n",
    "\n",
    "val_df = pd.read_csv('./data_validation.csv')\n",
    "val_X = val_df.drop(feature_reduction, axis=1)\n",
    "val_y = val_df['group']\n",
    "\n",
    "print(\"Random Forest Classification\")\n",
    "for _ in range(2):\n",
    "    X_train, X_test, y_train, y_test = train_test_split(\n",
    "    X, y, test_size=0.30)\n",
    "    forest = RandomForestClassifier()\n",
    "    forest.fit(X_train, y_train)\n",
    "\n",
    "    print(\"=================================\")\n",
    "    print(\"Test Accuracy: \", forest.score(X_test, y_test))\n",
    "    print(\"Validation Accuracy: \", forest.score(val_X, val_y))\n",
    "    importances = forest.feature_importances_\n",
    "    std = np.std([tree.feature_importances_ for tree in forest.estimators_],\n",
    "                 axis=0)\n",
    "    indices = np.argsort(importances)[::-1]\n",
    "    \n",
    "    questions = [q for q in X.columns]\n",
    "\n",
    "    questions = [questions[i] for i in indices]\n",
    "\n",
    "    # Print the feature ranking\n",
    "    print(\"Feature ranking:\")\n",
    "\n",
    "#     for f in range(X.shape[1]):\n",
    "#         print(\"%d. feature %d (%f)\" % (f + 1, indices[f], importances[indices[f]]))\n",
    "\n",
    "    # Plot the feature importances of the forest\n",
    "    plt.figure()\n",
    "    plt.title(\"Feature importances\")\n",
    "    plt.bar(range(X.shape[1]), importances[indices],\n",
    "           color=\"r\", yerr=std[indices], align=\"center\")\n",
    "    plt.xticks(range(X.shape[1]), questions)\n",
    "    plt.xlim([-1, X.shape[1]])\n",
    "    plt.show()\n",
    "    print(\"=================================\")"
   ]
  },
  {
   "cell_type": "code",
   "execution_count": 318,
   "metadata": {},
   "outputs": [
    {
     "name": "stdout",
     "output_type": "stream",
     "text": [
      "94\n",
      "89\n",
      "100\n",
      "50\n",
      "50\n",
      "78\n",
      "100\n",
      "100\n",
      "61\n",
      "100\n",
      "100\n",
      "100\n",
      "89\n",
      "100\n",
      "56\n"
     ]
    }
   ],
   "source": [
    "data = []\n",
    "\n",
    "for index, row in df.iterrows():\n",
    "    max = max([df['G1-Yes'][index], df['G1-No'][index], df['G1-Undecided'][index]])\n",
    "    \n",
    "    if max == df['G1-Yes'][index]"
   ]
  },
  {
   "cell_type": "code",
   "execution_count": null,
   "metadata": {},
   "outputs": [],
   "source": []
  },
  {
   "cell_type": "code",
   "execution_count": null,
   "metadata": {},
   "outputs": [],
   "source": []
  },
  {
   "cell_type": "code",
   "execution_count": null,
   "metadata": {},
   "outputs": [],
   "source": []
  },
  {
   "cell_type": "code",
   "execution_count": null,
   "metadata": {},
   "outputs": [],
   "source": []
  }
 ],
 "metadata": {
  "kernelspec": {
   "display_name": "Python 3",
   "language": "python",
   "name": "python3"
  },
  "language_info": {
   "codemirror_mode": {
    "name": "ipython",
    "version": 3
   },
   "file_extension": ".py",
   "mimetype": "text/x-python",
   "name": "python",
   "nbconvert_exporter": "python",
   "pygments_lexer": "ipython3",
   "version": "3.7.5"
  }
 },
 "nbformat": 4,
 "nbformat_minor": 2
}
